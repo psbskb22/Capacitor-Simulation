{
  "nbformat": 4,
  "nbformat_minor": 0,
  "metadata": {
    "colab": {
      "name": "Capacitor-Simulation.ipynb",
      "provenance": [],
      "collapsed_sections": [],
      "authorship_tag": "ABX9TyN7U2VXPuyVNplxTHPTVj9E",
      "include_colab_link": true
    },
    "kernelspec": {
      "name": "python3",
      "display_name": "Python 3"
    }
  },
  "cells": [
    {
      "cell_type": "markdown",
      "metadata": {
        "id": "view-in-github",
        "colab_type": "text"
      },
      "source": [
        "<a href=\"https://colab.research.google.com/github/psbskb22/Capacitor-Simulation/blob/main/Capacitor_Simulation.ipynb\" target=\"_parent\"><img src=\"https://colab.research.google.com/assets/colab-badge.svg\" alt=\"Open In Colab\"/></a>"
      ]
    },
    {
      "cell_type": "markdown",
      "metadata": {
        "id": "m6JrXlZLaakb"
      },
      "source": [
        "<h1>Capacitor Simulation</h1>\n",
        "<h4>Group Members</h4>\n",
        "<ul>\n",
        "  <li>Susanta Kumar Behera (16060)</li>\n",
        "  <li>Name</li>\n",
        "  <li>Name</li>\n",
        "  <li>Name</li>\n",
        "  <li>Name</li>\n",
        "</ul>\n"
      ]
    },
    {
      "cell_type": "markdown",
      "metadata": {
        "id": "sDiNotNEbZxm"
      },
      "source": [
        "\n",
        "\n",
        "\n",
        "\n"
      ]
    }
  ]
}